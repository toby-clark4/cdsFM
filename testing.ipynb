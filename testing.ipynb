{
 "cells": [
  {
   "cell_type": "code",
   "execution_count": 37,
   "id": "898ff40b-a208-4d0a-bd4e-a939c1346b9a",
   "metadata": {
    "execution": {
     "iopub.execute_input": "2025-06-30T11:20:57.825967Z",
     "iopub.status.busy": "2025-06-30T11:20:57.825634Z",
     "iopub.status.idle": "2025-06-30T11:20:57.828554Z",
     "shell.execute_reply": "2025-06-30T11:20:57.828193Z",
     "shell.execute_reply.started": "2025-06-30T11:20:57.825951Z"
    }
   },
   "outputs": [],
   "source": [
    "from cdsfm.encodon import AutoEnCodon\n",
    "from cdsfm.encodon.modeling_encodon import EnCodonForSequenceTask\n",
    "from cdsfm.encodon.configuration_encodon import EnCodonForSequenceTaskConfig\n",
    "import pandas as pd\n",
    "from datasets import Dataset"
   ]
  },
  {
   "cell_type": "code",
   "execution_count": 15,
   "id": "71b1207e-df8b-4f36-b8f7-98fc1631bd9b",
   "metadata": {
    "execution": {
     "iopub.execute_input": "2025-06-30T09:10:51.436750Z",
     "iopub.status.busy": "2025-06-30T09:10:51.436432Z",
     "iopub.status.idle": "2025-06-30T09:10:51.585030Z",
     "shell.execute_reply": "2025-06-30T09:10:51.584646Z",
     "shell.execute_reply.started": "2025-06-30T09:10:51.436733Z"
    }
   },
   "outputs": [
    {
     "name": "stderr",
     "output_type": "stream",
     "text": [
      "You are using a model of type encodon to instantiate a model of type . This is not supported for all configurations of models and can yield errors.\n"
     ]
    }
   ],
   "source": [
    "automodel = AutoEnCodon.from_pretrained(\"goodarzilab/encodon-620M-euk\")"
   ]
  },
  {
   "cell_type": "code",
   "execution_count": 17,
   "id": "71c4f638-c993-4039-9e92-44f55cc3daba",
   "metadata": {
    "execution": {
     "iopub.execute_input": "2025-06-30T09:11:08.009555Z",
     "iopub.status.busy": "2025-06-30T09:11:08.009298Z",
     "iopub.status.idle": "2025-06-30T09:11:08.011894Z",
     "shell.execute_reply": "2025-06-30T09:11:08.011516Z",
     "shell.execute_reply.started": "2025-06-30T09:11:08.009539Z"
    }
   },
   "outputs": [],
   "source": [
    "tokenizer = automodel.tokenizer"
   ]
  },
  {
   "cell_type": "code",
   "execution_count": 10,
   "id": "0d731f00-ac70-4b6f-b51c-24bc50488e34",
   "metadata": {
    "execution": {
     "iopub.execute_input": "2025-06-24T11:32:59.724724Z",
     "iopub.status.busy": "2025-06-24T11:32:59.724424Z",
     "iopub.status.idle": "2025-06-24T11:32:59.727179Z",
     "shell.execute_reply": "2025-06-24T11:32:59.726819Z",
     "shell.execute_reply.started": "2025-06-24T11:32:59.724708Z"
    }
   },
   "outputs": [],
   "source": [
    "model = automodel.model"
   ]
  },
  {
   "cell_type": "code",
   "execution_count": 12,
   "id": "d908b2fe-934c-4f37-883b-79bafc47ac30",
   "metadata": {
    "execution": {
     "iopub.execute_input": "2025-06-24T11:33:23.460783Z",
     "iopub.status.busy": "2025-06-24T11:33:23.460508Z",
     "iopub.status.idle": "2025-06-24T11:33:38.787589Z",
     "shell.execute_reply": "2025-06-24T11:33:38.787004Z",
     "shell.execute_reply.started": "2025-06-24T11:33:23.460766Z"
    }
   },
   "outputs": [],
   "source": [
    "model.save_pretrained('EnCodon-620M-euk')"
   ]
  },
  {
   "cell_type": "code",
   "execution_count": 22,
   "id": "4a0a6561-e375-4892-b0f3-099c62535ed4",
   "metadata": {
    "execution": {
     "iopub.execute_input": "2025-06-30T09:13:17.983283Z",
     "iopub.status.busy": "2025-06-30T09:13:17.983012Z",
     "iopub.status.idle": "2025-06-30T09:13:25.610328Z",
     "shell.execute_reply": "2025-06-30T09:13:25.609700Z",
     "shell.execute_reply.started": "2025-06-30T09:13:17.983267Z"
    }
   },
   "outputs": [
    {
     "name": "stdout",
     "output_type": "stream",
     "text": [
      "\n",
      "Tokenizing the datasets...\n"
     ]
    },
    {
     "data": {
      "application/vnd.jupyter.widget-view+json": {
       "model_id": "dfa818041fe944838469c88313d04ae6",
       "version_major": 2,
       "version_minor": 0
      },
      "text/plain": [
       "Map (num_proc=32):   0%|          | 0/12914 [00:00<?, ? examples/s]"
      ]
     },
     "metadata": {},
     "output_type": "display_data"
    }
   ],
   "source": [
    "data = pd.read_csv(\"../CDS-LM/data/finetuning/saluki/human_sss_reprocessed.csv\", index_col=0)\n",
    "\n",
    "\n",
    "print(\"\\nTokenizing the datasets...\")\n",
    "\n",
    "dataset = Dataset.from_pandas(pd.DataFrame({\"seq\": data['CDS'].values, 'y': data['y'].values}))\n",
    "\n",
    "dataset = dataset.map(lambda x: tokenizer(x['seq'],\n",
    "        #[f\"{tokenizer.cls_token}{y}{tokenizer.sep_token}\" for y in x[\"seq\"]],\n",
    "        add_special_tokens=True,\n",
    "        return_attention_mask=True,\n",
    "        return_special_tokens_mask=True,\n",
    "        truncation=True,\n",
    "        padding=True,\n",
    "    ),\n",
    "    batched=True, num_proc=32, remove_columns=[\"seq\"]\n",
    ")"
   ]
  },
  {
   "cell_type": "code",
   "execution_count": 24,
   "id": "716ded8b-3c49-4c2e-ab44-735597ad23f3",
   "metadata": {
    "execution": {
     "iopub.execute_input": "2025-06-30T09:13:30.635922Z",
     "iopub.status.busy": "2025-06-30T09:13:30.635277Z",
     "iopub.status.idle": "2025-06-30T09:13:30.638683Z",
     "shell.execute_reply": "2025-06-30T09:13:30.638312Z",
     "shell.execute_reply.started": "2025-06-30T09:13:30.635906Z"
    }
   },
   "outputs": [
    {
     "data": {
      "text/plain": [
       "Dataset({\n",
       "    features: ['y', 'input_ids', 'token_type_ids', 'special_tokens_mask', 'attention_mask'],\n",
       "    num_rows: 12914\n",
       "})"
      ]
     },
     "execution_count": 24,
     "metadata": {},
     "output_type": "execute_result"
    }
   ],
   "source": [
    "dataset"
   ]
  },
  {
   "cell_type": "code",
   "execution_count": 30,
   "id": "8a186270-2c26-4109-a480-5015b513ca4f",
   "metadata": {
    "execution": {
     "iopub.execute_input": "2025-06-30T09:15:22.498055Z",
     "iopub.status.busy": "2025-06-30T09:15:22.497760Z",
     "iopub.status.idle": "2025-06-30T09:15:29.829559Z",
     "shell.execute_reply": "2025-06-30T09:15:29.828776Z",
     "shell.execute_reply.started": "2025-06-30T09:15:22.498036Z"
    }
   },
   "outputs": [],
   "source": [
    "input_lens = map(lambda x: len(x), dataset['token_type_ids'])"
   ]
  },
  {
   "cell_type": "code",
   "execution_count": 35,
   "id": "0a009bdd-3f84-4d3a-bc36-fa10a09152a1",
   "metadata": {
    "execution": {
     "iopub.execute_input": "2025-06-30T11:19:07.903275Z",
     "iopub.status.busy": "2025-06-30T11:19:07.902990Z",
     "iopub.status.idle": "2025-06-30T11:19:07.908883Z",
     "shell.execute_reply": "2025-06-30T11:19:07.908504Z",
     "shell.execute_reply.started": "2025-06-30T11:19:07.903258Z"
    }
   },
   "outputs": [
    {
     "data": {
      "text/plain": [
       "EnCodon(\n",
       "  (bert): EnCodonModule(\n",
       "    (embeddings): EnCodonEmbeddings(\n",
       "      (word_embeddings): Embedding(69, 2048, padding_idx=3)\n",
       "      (position_embeddings): Embedding(2048, 2048)\n",
       "      (token_type_embeddings): Embedding(2, 2048)\n",
       "      (LayerNorm): LayerNorm((2048,), eps=1e-12, elementwise_affine=True)\n",
       "      (dropout): Dropout(p=0.1, inplace=False)\n",
       "    )\n",
       "    (encoder): EnCodonStack(\n",
       "      (layer): ModuleList(\n",
       "        (0-11): 12 x EnCodonLayer(\n",
       "          (attention): EnCodonAttention(\n",
       "            (pre_layer_norm): LayerNorm((2048,), eps=1e-12, elementwise_affine=True)\n",
       "            (post_attn_dense): Linear(in_features=2048, out_features=2048, bias=True)\n",
       "            (post_layer_norm): LayerNorm((2048,), eps=1e-12, elementwise_affine=True)\n",
       "            (dropout): Dropout(p=0.1, inplace=False)\n",
       "            (self_attention): MultiHeadedSelfAttention(\n",
       "              (query): Linear(in_features=2048, out_features=2048, bias=True)\n",
       "              (key): Linear(in_features=2048, out_features=2048, bias=True)\n",
       "              (value): Linear(in_features=2048, out_features=2048, bias=True)\n",
       "              (rotary_emb): RotaryEmbedding()\n",
       "              (dropout): Dropout(p=0.1, inplace=False)\n",
       "            )\n",
       "          )\n",
       "          (output): EnCodonFFN(\n",
       "            (pre_layer_norm): LayerNorm((2048,), eps=1e-12, elementwise_affine=True)\n",
       "            (intermediate_dense): Linear(in_features=2048, out_features=8192, bias=True)\n",
       "            (post_layer_norm): LayerNorm((8192,), eps=1e-12, elementwise_affine=True)\n",
       "            (post_dense): Linear(in_features=8192, out_features=2048, bias=True)\n",
       "            (dropout): Dropout(p=0.1, inplace=False)\n",
       "            (intermediate_act_fn): GELUActivation()\n",
       "          )\n",
       "        )\n",
       "      )\n",
       "    )\n",
       "    (pooler): BERTPooler(\n",
       "      (dense): Linear(in_features=2048, out_features=2048, bias=True)\n",
       "      (activation): Tanh()\n",
       "    )\n",
       "  )\n",
       "  (cls): Sequential(\n",
       "    (0): Linear(in_features=2048, out_features=2048, bias=True)\n",
       "    (1): GELU(approximate='none')\n",
       "    (2): LayerNorm((2048,), eps=1e-12, elementwise_affine=True)\n",
       "    (3): Linear(in_features=2048, out_features=69, bias=True)\n",
       "  )\n",
       ")"
      ]
     },
     "execution_count": 35,
     "metadata": {},
     "output_type": "execute_result"
    }
   ],
   "source": [
    "model = EncodonForSequenceTask"
   ]
  },
  {
   "cell_type": "code",
   "execution_count": 44,
   "id": "0a8c56d8-8741-44ed-9f03-b4b5e881a5ca",
   "metadata": {
    "execution": {
     "iopub.execute_input": "2025-06-30T11:28:40.456462Z",
     "iopub.status.busy": "2025-06-30T11:28:40.456153Z",
     "iopub.status.idle": "2025-06-30T11:28:40.459823Z",
     "shell.execute_reply": "2025-06-30T11:28:40.459455Z",
     "shell.execute_reply.started": "2025-06-30T11:28:40.456443Z"
    }
   },
   "outputs": [],
   "source": [
    "config = EnCodonForSequenceTaskConfig.from_pretrained(\"EnCodon-620M-euk\")"
   ]
  },
  {
   "cell_type": "code",
   "execution_count": 46,
   "id": "7675d2d4-e5c2-4c9d-9153-f585ed62a6f4",
   "metadata": {
    "execution": {
     "iopub.execute_input": "2025-06-30T11:28:45.572445Z",
     "iopub.status.busy": "2025-06-30T11:28:45.572183Z",
     "iopub.status.idle": "2025-06-30T11:28:45.575330Z",
     "shell.execute_reply": "2025-06-30T11:28:45.574939Z",
     "shell.execute_reply.started": "2025-06-30T11:28:45.572427Z"
    }
   },
   "outputs": [],
   "source": [
    "config.problem_type = 'regression'\n",
    "config.cls_type = 'cls'\n",
    "config.num_labels = 1\n",
    "config.num_tasks = 1\n",
    "config.classifier_dropout = 0.3\n",
    "config.attention_probs_dropout_prob=0.0\n",
    "config.hidden_dropout_prob=0.0\n",
    "config.loss_fn = 'huber'"
   ]
  },
  {
   "cell_type": "code",
   "execution_count": 47,
   "id": "850d3e95-8a86-4f7b-8970-ae3e6e126334",
   "metadata": {
    "execution": {
     "iopub.execute_input": "2025-06-30T11:28:49.904612Z",
     "iopub.status.busy": "2025-06-30T11:28:49.904060Z",
     "iopub.status.idle": "2025-06-30T11:28:49.908046Z",
     "shell.execute_reply": "2025-06-30T11:28:49.907721Z",
     "shell.execute_reply.started": "2025-06-30T11:28:49.904594Z"
    }
   },
   "outputs": [
    {
     "data": {
      "text/plain": [
       "EnCodonForSequenceTaskConfig {\n",
       "  \"architectures\": [\n",
       "    \"EnCodon\"\n",
       "  ],\n",
       "  \"attention_probs_dropout_prob\": 0.1,\n",
       "  \"attention_type\": \"self\",\n",
       "  \"auto_map\": {\n",
       "    \"AutoConfig\": \"goodarzilab/encodon-620M-euk--configuration_encodon.EnCodonConfig\",\n",
       "    \"AutoModelForMaskedLM\": \"goodarzilab/encodon-620M-euk--modeling_encodon.EnCodon\",\n",
       "    \"AutoModelForSequenceClassification\": \"goodarzilab/encodon-620M-euk--cdsfm.encodon.modeling_encodon.EnCodonForSequenceTask\",\n",
       "    \"AutoTokenizer\": \"goodarzilab/encodon-620M-euk--cdsfm.encodon.tokenization_encodon.EnCodonTokenizer\"\n",
       "  },\n",
       "  \"classifier_dropout\": 0.3,\n",
       "  \"cls_dropout_prob\": 0.1,\n",
       "  \"cls_hidden_act\": \"relu\",\n",
       "  \"cls_hidden_size\": 128,\n",
       "  \"cls_num_attention_heads\": 8,\n",
       "  \"cls_num_hidden_layers\": 1,\n",
       "  \"cls_rotary_theta\": 10000.0,\n",
       "  \"cls_type\": \"cls\",\n",
       "  \"cls_use_rotary_emb\": false,\n",
       "  \"dilation\": 1,\n",
       "  \"dilation_rates\": null,\n",
       "  \"gamma_init\": 1.782709687623856,\n",
       "  \"hidden_act\": \"gelu\",\n",
       "  \"hidden_dropout_prob\": 0.1,\n",
       "  \"hidden_size\": 2048,\n",
       "  \"id2label\": {\n",
       "    \"0\": \"LABEL_0\"\n",
       "  },\n",
       "  \"initializer_range\": 0.02,\n",
       "  \"intermediate_size\": 8192,\n",
       "  \"kernel_size\": 3,\n",
       "  \"label2id\": {\n",
       "    \"LABEL_0\": 0\n",
       "  },\n",
       "  \"layer_indices\": -1,\n",
       "  \"layer_norm_eps\": 1e-12,\n",
       "  \"layer_reduction\": \"none\",\n",
       "  \"lm_type\": \"distilled\",\n",
       "  \"loss_fn\": \"huber\",\n",
       "  \"max_position_embeddings\": 2048,\n",
       "  \"num_attention_heads\": 16,\n",
       "  \"num_divs\": 0,\n",
       "  \"num_filters\": 128,\n",
       "  \"num_hidden_layers\": 12,\n",
       "  \"num_tasks\": 1,\n",
       "  \"pad_token_id\": 3,\n",
       "  \"pooler_activation\": \"tanh\",\n",
       "  \"pooling_size\": 2,\n",
       "  \"pooling_type\": \"max\",\n",
       "  \"position_embedding_type\": \"rotary\",\n",
       "  \"problem_type\": \"regression\",\n",
       "  \"reduction\": \"mean\",\n",
       "  \"rotary_theta\": 10000.0,\n",
       "  \"segment_lengths\": null,\n",
       "  \"stride\": 1,\n",
       "  \"task_name\": \"NoName\",\n",
       "  \"torch_dtype\": \"float32\",\n",
       "  \"transformers_version\": \"4.51.3\",\n",
       "  \"type_vocab_size\": 2,\n",
       "  \"use_cache\": true,\n",
       "  \"use_flash_attn\": true,\n",
       "  \"use_nsp\": false,\n",
       "  \"use_rotary_emb\": true,\n",
       "  \"vocab_size\": 69\n",
       "}"
      ]
     },
     "execution_count": 47,
     "metadata": {},
     "output_type": "execute_result"
    }
   ],
   "source": [
    "config"
   ]
  },
  {
   "cell_type": "code",
   "execution_count": 42,
   "id": "ac56992d-04dc-49fb-9659-ef46fa26d164",
   "metadata": {
    "execution": {
     "iopub.execute_input": "2025-06-30T11:23:02.323499Z",
     "iopub.status.busy": "2025-06-30T11:23:02.323129Z",
     "iopub.status.idle": "2025-06-30T11:23:07.998524Z",
     "shell.execute_reply": "2025-06-30T11:23:07.998081Z",
     "shell.execute_reply.started": "2025-06-30T11:23:02.323482Z"
    }
   },
   "outputs": [],
   "source": [
    "model2 = EnCodonForSequenceTask(config)"
   ]
  },
  {
   "cell_type": "code",
   "execution_count": 43,
   "id": "adb17a61-b5c2-4cba-b045-32179e165efa",
   "metadata": {
    "execution": {
     "iopub.execute_input": "2025-06-30T11:23:07.999371Z",
     "iopub.status.busy": "2025-06-30T11:23:07.999176Z",
     "iopub.status.idle": "2025-06-30T11:23:08.003204Z",
     "shell.execute_reply": "2025-06-30T11:23:08.002891Z",
     "shell.execute_reply.started": "2025-06-30T11:23:07.999357Z"
    }
   },
   "outputs": [
    {
     "data": {
      "text/plain": [
       "EnCodonForSequenceTask(\n",
       "  (bert): EnCodonModule(\n",
       "    (embeddings): EnCodonEmbeddings(\n",
       "      (word_embeddings): Embedding(69, 2048, padding_idx=3)\n",
       "      (position_embeddings): Embedding(2048, 2048)\n",
       "      (token_type_embeddings): Embedding(2, 2048)\n",
       "      (LayerNorm): LayerNorm((2048,), eps=1e-12, elementwise_affine=True)\n",
       "      (dropout): Dropout(p=0.1, inplace=False)\n",
       "    )\n",
       "    (encoder): EnCodonStack(\n",
       "      (layer): ModuleList(\n",
       "        (0-11): 12 x EnCodonLayer(\n",
       "          (attention): EnCodonAttention(\n",
       "            (pre_layer_norm): LayerNorm((2048,), eps=1e-12, elementwise_affine=True)\n",
       "            (post_attn_dense): Linear(in_features=2048, out_features=2048, bias=True)\n",
       "            (post_layer_norm): LayerNorm((2048,), eps=1e-12, elementwise_affine=True)\n",
       "            (dropout): Dropout(p=0.1, inplace=False)\n",
       "            (self_attention): MultiHeadedSelfAttention(\n",
       "              (query): Linear(in_features=2048, out_features=2048, bias=True)\n",
       "              (key): Linear(in_features=2048, out_features=2048, bias=True)\n",
       "              (value): Linear(in_features=2048, out_features=2048, bias=True)\n",
       "              (rotary_emb): RotaryEmbedding()\n",
       "              (dropout): Dropout(p=0.1, inplace=False)\n",
       "            )\n",
       "          )\n",
       "          (output): EnCodonFFN(\n",
       "            (pre_layer_norm): LayerNorm((2048,), eps=1e-12, elementwise_affine=True)\n",
       "            (intermediate_dense): Linear(in_features=2048, out_features=8192, bias=True)\n",
       "            (post_layer_norm): LayerNorm((8192,), eps=1e-12, elementwise_affine=True)\n",
       "            (post_dense): Linear(in_features=8192, out_features=2048, bias=True)\n",
       "            (dropout): Dropout(p=0.1, inplace=False)\n",
       "            (intermediate_act_fn): GELUActivation()\n",
       "          )\n",
       "        )\n",
       "      )\n",
       "    )\n",
       "    (pooler): BERTPooler(\n",
       "      (dense): Linear(in_features=2048, out_features=2048, bias=True)\n",
       "      (activation): Tanh()\n",
       "    )\n",
       "  )\n",
       "  (classifier): Linear(in_features=2048, out_features=1, bias=True)\n",
       ")"
      ]
     },
     "execution_count": 43,
     "metadata": {},
     "output_type": "execute_result"
    }
   ],
   "source": [
    "model2"
   ]
  },
  {
   "cell_type": "code",
   "execution_count": null,
   "id": "afaa808e-d457-4bec-9f91-afc39025bf7f",
   "metadata": {},
   "outputs": [],
   "source": []
  }
 ],
 "metadata": {
  "kernelspec": {
   "display_name": "saturn (Python 3)",
   "language": "python",
   "name": "python3"
  },
  "language_info": {
   "codemirror_mode": {
    "name": "ipython",
    "version": 3
   },
   "file_extension": ".py",
   "mimetype": "text/x-python",
   "name": "python",
   "nbconvert_exporter": "python",
   "pygments_lexer": "ipython3",
   "version": "3.12.9"
  }
 },
 "nbformat": 4,
 "nbformat_minor": 5
}
